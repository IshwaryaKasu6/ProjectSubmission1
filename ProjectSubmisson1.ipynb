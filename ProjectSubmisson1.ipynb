{
 "cells": [
  {
   "cell_type": "markdown",
   "metadata": {},
   "source": [
    "# Restaurant Recommendation system"
   ]
  },
  {
   "cell_type": "markdown",
   "metadata": {},
   "source": [
    "# #Transforming the raw data to required cleaned data"
   ]
  },
  {
   "cell_type": "code",
   "execution_count": 85,
   "metadata": {},
   "outputs": [
    {
     "data": {
      "text/html": [
       "<div>\n",
       "<style scoped>\n",
       "    .dataframe tbody tr th:only-of-type {\n",
       "        vertical-align: middle;\n",
       "    }\n",
       "\n",
       "    .dataframe tbody tr th {\n",
       "        vertical-align: top;\n",
       "    }\n",
       "\n",
       "    .dataframe thead th {\n",
       "        text-align: right;\n",
       "    }\n",
       "</style>\n",
       "<table border=\"1\" class=\"dataframe\">\n",
       "  <thead>\n",
       "    <tr style=\"text-align: right;\">\n",
       "      <th></th>\n",
       "      <th>Unnamed: 0</th>\n",
       "      <th>business_id</th>\n",
       "      <th>name</th>\n",
       "      <th>address</th>\n",
       "      <th>city</th>\n",
       "      <th>state</th>\n",
       "      <th>postal_code</th>\n",
       "      <th>latitude</th>\n",
       "      <th>longitude</th>\n",
       "      <th>stars</th>\n",
       "      <th>review_count</th>\n",
       "      <th>is_open</th>\n",
       "      <th>attributes</th>\n",
       "      <th>categories</th>\n",
       "      <th>hours</th>\n",
       "    </tr>\n",
       "  </thead>\n",
       "  <tbody>\n",
       "    <tr>\n",
       "      <th>0</th>\n",
       "      <td>0</td>\n",
       "      <td>f9NumwFMBDn751xgFiRbNA</td>\n",
       "      <td>The Range At Lake Norman</td>\n",
       "      <td>10913 Bailey Rd</td>\n",
       "      <td>Cornelius</td>\n",
       "      <td>NC</td>\n",
       "      <td>28031</td>\n",
       "      <td>35.462724</td>\n",
       "      <td>-80.852612</td>\n",
       "      <td>3.5</td>\n",
       "      <td>36</td>\n",
       "      <td>1</td>\n",
       "      <td>{'BusinessAcceptsCreditCards': 'True', 'BikePa...</td>\n",
       "      <td>Active Life, Gun/Rifle Ranges, Guns &amp; Ammo, Sh...</td>\n",
       "      <td>{'Monday': '10:0-18:0', 'Tuesday': '11:0-20:0'...</td>\n",
       "    </tr>\n",
       "    <tr>\n",
       "      <th>1</th>\n",
       "      <td>1</td>\n",
       "      <td>Yzvjg0SayhoZgCljUJRF9Q</td>\n",
       "      <td>Carlos Santo, NMD</td>\n",
       "      <td>8880 E Via Linda, Ste 107</td>\n",
       "      <td>Scottsdale</td>\n",
       "      <td>AZ</td>\n",
       "      <td>85258</td>\n",
       "      <td>33.569404</td>\n",
       "      <td>-111.890264</td>\n",
       "      <td>5.0</td>\n",
       "      <td>4</td>\n",
       "      <td>1</td>\n",
       "      <td>{'GoodForKids': 'True', 'ByAppointmentOnly': '...</td>\n",
       "      <td>Health &amp; Medical, Fitness &amp; Instruction, Yoga,...</td>\n",
       "      <td>NaN</td>\n",
       "    </tr>\n",
       "    <tr>\n",
       "      <th>2</th>\n",
       "      <td>2</td>\n",
       "      <td>XNoUzKckATkOD1hP6vghZg</td>\n",
       "      <td>Felinus</td>\n",
       "      <td>3554 Rue Notre-Dame O</td>\n",
       "      <td>Montreal</td>\n",
       "      <td>QC</td>\n",
       "      <td>H4C 1P4</td>\n",
       "      <td>45.479984</td>\n",
       "      <td>-73.580070</td>\n",
       "      <td>5.0</td>\n",
       "      <td>5</td>\n",
       "      <td>1</td>\n",
       "      <td>NaN</td>\n",
       "      <td>Pets, Pet Services, Pet Groomers</td>\n",
       "      <td>NaN</td>\n",
       "    </tr>\n",
       "    <tr>\n",
       "      <th>3</th>\n",
       "      <td>3</td>\n",
       "      <td>6OAZjbxqM5ol29BuHsil3w</td>\n",
       "      <td>Nevada House of Hose</td>\n",
       "      <td>1015 Sharp Cir</td>\n",
       "      <td>North Las Vegas</td>\n",
       "      <td>NV</td>\n",
       "      <td>89030</td>\n",
       "      <td>36.219728</td>\n",
       "      <td>-115.127725</td>\n",
       "      <td>2.5</td>\n",
       "      <td>3</td>\n",
       "      <td>0</td>\n",
       "      <td>{'BusinessAcceptsCreditCards': 'True', 'ByAppo...</td>\n",
       "      <td>Hardware Stores, Home Services, Building Suppl...</td>\n",
       "      <td>{'Monday': '7:0-16:0', 'Tuesday': '7:0-16:0', ...</td>\n",
       "    </tr>\n",
       "    <tr>\n",
       "      <th>4</th>\n",
       "      <td>4</td>\n",
       "      <td>51M2Kk903DFYI6gnB5I6SQ</td>\n",
       "      <td>USE MY GUY SERVICES LLC</td>\n",
       "      <td>4827 E Downing Cir</td>\n",
       "      <td>Mesa</td>\n",
       "      <td>AZ</td>\n",
       "      <td>85205</td>\n",
       "      <td>33.428065</td>\n",
       "      <td>-111.726649</td>\n",
       "      <td>4.5</td>\n",
       "      <td>26</td>\n",
       "      <td>1</td>\n",
       "      <td>{'BusinessAcceptsCreditCards': 'True', 'ByAppo...</td>\n",
       "      <td>Home Services, Plumbing, Electricians, Handyma...</td>\n",
       "      <td>{'Monday': '0:0-0:0', 'Tuesday': '9:0-16:0', '...</td>\n",
       "    </tr>\n",
       "  </tbody>\n",
       "</table>\n",
       "</div>"
      ],
      "text/plain": [
       "   Unnamed: 0             business_id                      name  \\\n",
       "0           0  f9NumwFMBDn751xgFiRbNA  The Range At Lake Norman   \n",
       "1           1  Yzvjg0SayhoZgCljUJRF9Q         Carlos Santo, NMD   \n",
       "2           2  XNoUzKckATkOD1hP6vghZg                   Felinus   \n",
       "3           3  6OAZjbxqM5ol29BuHsil3w      Nevada House of Hose   \n",
       "4           4  51M2Kk903DFYI6gnB5I6SQ   USE MY GUY SERVICES LLC   \n",
       "\n",
       "                     address             city state postal_code   latitude  \\\n",
       "0            10913 Bailey Rd        Cornelius    NC       28031  35.462724   \n",
       "1  8880 E Via Linda, Ste 107       Scottsdale    AZ       85258  33.569404   \n",
       "2      3554 Rue Notre-Dame O         Montreal    QC     H4C 1P4  45.479984   \n",
       "3             1015 Sharp Cir  North Las Vegas    NV       89030  36.219728   \n",
       "4         4827 E Downing Cir             Mesa    AZ       85205  33.428065   \n",
       "\n",
       "    longitude  stars  review_count  is_open  \\\n",
       "0  -80.852612    3.5            36        1   \n",
       "1 -111.890264    5.0             4        1   \n",
       "2  -73.580070    5.0             5        1   \n",
       "3 -115.127725    2.5             3        0   \n",
       "4 -111.726649    4.5            26        1   \n",
       "\n",
       "                                          attributes  \\\n",
       "0  {'BusinessAcceptsCreditCards': 'True', 'BikePa...   \n",
       "1  {'GoodForKids': 'True', 'ByAppointmentOnly': '...   \n",
       "2                                                NaN   \n",
       "3  {'BusinessAcceptsCreditCards': 'True', 'ByAppo...   \n",
       "4  {'BusinessAcceptsCreditCards': 'True', 'ByAppo...   \n",
       "\n",
       "                                          categories  \\\n",
       "0  Active Life, Gun/Rifle Ranges, Guns & Ammo, Sh...   \n",
       "1  Health & Medical, Fitness & Instruction, Yoga,...   \n",
       "2                   Pets, Pet Services, Pet Groomers   \n",
       "3  Hardware Stores, Home Services, Building Suppl...   \n",
       "4  Home Services, Plumbing, Electricians, Handyma...   \n",
       "\n",
       "                                               hours  \n",
       "0  {'Monday': '10:0-18:0', 'Tuesday': '11:0-20:0'...  \n",
       "1                                                NaN  \n",
       "2                                                NaN  \n",
       "3  {'Monday': '7:0-16:0', 'Tuesday': '7:0-16:0', ...  \n",
       "4  {'Monday': '0:0-0:0', 'Tuesday': '9:0-16:0', '...  "
      ]
     },
     "execution_count": 85,
     "metadata": {},
     "output_type": "execute_result"
    }
   ],
   "source": [
    "# Raw data \n",
    "import pandas as pd    \n",
    "dataframe_business= pd.read_csv(\"datframe_business.csv\")  \n",
    "dataframe_business.head()"
   ]
  },
  {
   "cell_type": "markdown",
   "metadata": {},
   "source": [
    "### Filtering the  data.If the bussiness is restaraunt or has restraunt then it should have  \"RestaurantsTakeOut\" in its attributes"
   ]
  },
  {
   "cell_type": "code",
   "execution_count": 86,
   "metadata": {},
   "outputs": [
    {
     "name": "stdout",
     "output_type": "stream",
     "text": [
      "66301\n",
      "143092\n"
     ]
    }
   ],
   "source": [
    "#Here using RestaurantsTakeOut attributes as filters we are identifing at which indexes we have restraunts a\n",
    "indexlist=[]# list to collect indexs where we have restarants or food related data\n",
    "nolist=[]#list to collect indexes related to other bussinesses, so that we can delete them later\n",
    "AttributesList=dataframe_business['attributes']\n",
    "reqtype=type(AttributesList[0])\n",
    "for i in range(len(AttributesList)):\n",
    "    if type(AttributesList[i])==reqtype:#it is str\n",
    "        splitlist=AttributesList[i].split(\"RestaurantsTakeOut\")\n",
    "        if len(splitlist)>1:\n",
    "            #restraunts is present\n",
    "            indexlist.append(i)\n",
    "        else:\n",
    "            nolist.append(i)\n",
    "    else:\n",
    "        nolist.append(i)\n",
    "               \n",
    "print(len(indexlist))#how many rows of restaraunts related data present\n",
    "print(len(nolist))#how many rows of other bussinesses related data present"
   ]
  },
  {
   "cell_type": "code",
   "execution_count": 87,
   "metadata": {
    "scrolled": true
   },
   "outputs": [
    {
     "data": {
      "text/html": [
       "<div>\n",
       "<style scoped>\n",
       "    .dataframe tbody tr th:only-of-type {\n",
       "        vertical-align: middle;\n",
       "    }\n",
       "\n",
       "    .dataframe tbody tr th {\n",
       "        vertical-align: top;\n",
       "    }\n",
       "\n",
       "    .dataframe thead th {\n",
       "        text-align: right;\n",
       "    }\n",
       "</style>\n",
       "<table border=\"1\" class=\"dataframe\">\n",
       "  <thead>\n",
       "    <tr style=\"text-align: right;\">\n",
       "      <th></th>\n",
       "      <th>Unnamed: 0</th>\n",
       "      <th>business_id</th>\n",
       "      <th>name</th>\n",
       "      <th>address</th>\n",
       "      <th>city</th>\n",
       "      <th>state</th>\n",
       "      <th>postal_code</th>\n",
       "      <th>latitude</th>\n",
       "      <th>longitude</th>\n",
       "      <th>stars</th>\n",
       "      <th>review_count</th>\n",
       "      <th>is_open</th>\n",
       "      <th>attributes</th>\n",
       "      <th>categories</th>\n",
       "      <th>hours</th>\n",
       "    </tr>\n",
       "  </thead>\n",
       "  <tbody>\n",
       "    <tr>\n",
       "      <th>8</th>\n",
       "      <td>8</td>\n",
       "      <td>pQeaRpvuhoEqudo3uymHIQ</td>\n",
       "      <td>The Empanadas House</td>\n",
       "      <td>404 E Green St</td>\n",
       "      <td>Champaign</td>\n",
       "      <td>IL</td>\n",
       "      <td>61820</td>\n",
       "      <td>40.110446</td>\n",
       "      <td>-88.233073</td>\n",
       "      <td>4.5</td>\n",
       "      <td>5</td>\n",
       "      <td>1</td>\n",
       "      <td>{'RestaurantsAttire': \"u'casual'\", 'Restaurant...</td>\n",
       "      <td>Ethnic Food, Food Trucks, Specialty Food, Impo...</td>\n",
       "      <td>{'Monday': '11:30-14:30', 'Tuesday': '11:30-14...</td>\n",
       "    </tr>\n",
       "    <tr>\n",
       "      <th>12</th>\n",
       "      <td>12</td>\n",
       "      <td>M_guz7Dj7hX0evS672wIwA</td>\n",
       "      <td>Chocolate Shoppe Ice Cream</td>\n",
       "      <td>2831 Parmenter St</td>\n",
       "      <td>Middleton</td>\n",
       "      <td>WI</td>\n",
       "      <td>53562</td>\n",
       "      <td>43.105310</td>\n",
       "      <td>-89.510142</td>\n",
       "      <td>3.5</td>\n",
       "      <td>6</td>\n",
       "      <td>1</td>\n",
       "      <td>{'BikeParking': 'True', 'Caters': 'True', 'Whe...</td>\n",
       "      <td>Desserts, Food, Ice Cream &amp; Frozen Yogurt</td>\n",
       "      <td>{'Monday': '0:0-0:0', 'Tuesday': '11:0-21:0', ...</td>\n",
       "    </tr>\n",
       "    <tr>\n",
       "      <th>20</th>\n",
       "      <td>20</td>\n",
       "      <td>CsLQLiRoafpJPJSkNX2h5Q</td>\n",
       "      <td>Middle East Deli</td>\n",
       "      <td>4508 E Independence Blvd</td>\n",
       "      <td>Charlotte</td>\n",
       "      <td>NC</td>\n",
       "      <td>28205</td>\n",
       "      <td>35.194894</td>\n",
       "      <td>-80.767442</td>\n",
       "      <td>3.0</td>\n",
       "      <td>5</td>\n",
       "      <td>0</td>\n",
       "      <td>{'RestaurantsGoodForGroups': 'True', 'OutdoorS...</td>\n",
       "      <td>Food, Restaurants, Grocery, Middle Eastern</td>\n",
       "      <td>NaN</td>\n",
       "    </tr>\n",
       "    <tr>\n",
       "      <th>21</th>\n",
       "      <td>21</td>\n",
       "      <td>x3Po6tJGb729u_HJPY6UCA</td>\n",
       "      <td>Glendale Glitters</td>\n",
       "      <td>5850 W Glendale Avenue</td>\n",
       "      <td>Glendale</td>\n",
       "      <td>AZ</td>\n",
       "      <td>85301</td>\n",
       "      <td>33.538950</td>\n",
       "      <td>-112.185178</td>\n",
       "      <td>2.5</td>\n",
       "      <td>52</td>\n",
       "      <td>1</td>\n",
       "      <td>{'GoodForKids': 'True', 'BikeParking': 'True',...</td>\n",
       "      <td>Arts &amp; Entertainment, Festivals, Local Flavor</td>\n",
       "      <td>{'Friday': '18:0-22:0', 'Saturday': '18:0-22:0...</td>\n",
       "    </tr>\n",
       "    <tr>\n",
       "      <th>24</th>\n",
       "      <td>24</td>\n",
       "      <td>eBEfgOPG7pvFhb2wcG9I7w</td>\n",
       "      <td>Philthy Phillys</td>\n",
       "      <td>15480 Bayview Avenue, unit D0110</td>\n",
       "      <td>Aurora</td>\n",
       "      <td>ON</td>\n",
       "      <td>L4G 7J1</td>\n",
       "      <td>44.010962</td>\n",
       "      <td>-79.448677</td>\n",
       "      <td>4.5</td>\n",
       "      <td>4</td>\n",
       "      <td>1</td>\n",
       "      <td>{'RestaurantsTableService': 'False', 'Restaura...</td>\n",
       "      <td>Restaurants, Cheesesteaks, Poutineries</td>\n",
       "      <td>{'Monday': '11:0-22:0', 'Tuesday': '11:0-22:0'...</td>\n",
       "    </tr>\n",
       "  </tbody>\n",
       "</table>\n",
       "</div>"
      ],
      "text/plain": [
       "    Unnamed: 0             business_id                        name  \\\n",
       "8            8  pQeaRpvuhoEqudo3uymHIQ         The Empanadas House   \n",
       "12          12  M_guz7Dj7hX0evS672wIwA  Chocolate Shoppe Ice Cream   \n",
       "20          20  CsLQLiRoafpJPJSkNX2h5Q            Middle East Deli   \n",
       "21          21  x3Po6tJGb729u_HJPY6UCA           Glendale Glitters   \n",
       "24          24  eBEfgOPG7pvFhb2wcG9I7w             Philthy Phillys   \n",
       "\n",
       "                             address       city state postal_code   latitude  \\\n",
       "8                     404 E Green St  Champaign    IL       61820  40.110446   \n",
       "12                 2831 Parmenter St  Middleton    WI       53562  43.105310   \n",
       "20          4508 E Independence Blvd  Charlotte    NC       28205  35.194894   \n",
       "21            5850 W Glendale Avenue   Glendale    AZ       85301  33.538950   \n",
       "24  15480 Bayview Avenue, unit D0110     Aurora    ON     L4G 7J1  44.010962   \n",
       "\n",
       "     longitude  stars  review_count  is_open  \\\n",
       "8   -88.233073    4.5             5        1   \n",
       "12  -89.510142    3.5             6        1   \n",
       "20  -80.767442    3.0             5        0   \n",
       "21 -112.185178    2.5            52        1   \n",
       "24  -79.448677    4.5             4        1   \n",
       "\n",
       "                                           attributes  \\\n",
       "8   {'RestaurantsAttire': \"u'casual'\", 'Restaurant...   \n",
       "12  {'BikeParking': 'True', 'Caters': 'True', 'Whe...   \n",
       "20  {'RestaurantsGoodForGroups': 'True', 'OutdoorS...   \n",
       "21  {'GoodForKids': 'True', 'BikeParking': 'True',...   \n",
       "24  {'RestaurantsTableService': 'False', 'Restaura...   \n",
       "\n",
       "                                           categories  \\\n",
       "8   Ethnic Food, Food Trucks, Specialty Food, Impo...   \n",
       "12          Desserts, Food, Ice Cream & Frozen Yogurt   \n",
       "20         Food, Restaurants, Grocery, Middle Eastern   \n",
       "21      Arts & Entertainment, Festivals, Local Flavor   \n",
       "24             Restaurants, Cheesesteaks, Poutineries   \n",
       "\n",
       "                                                hours  \n",
       "8   {'Monday': '11:30-14:30', 'Tuesday': '11:30-14...  \n",
       "12  {'Monday': '0:0-0:0', 'Tuesday': '11:0-21:0', ...  \n",
       "20                                                NaN  \n",
       "21  {'Friday': '18:0-22:0', 'Saturday': '18:0-22:0...  \n",
       "24  {'Monday': '11:0-22:0', 'Tuesday': '11:0-22:0'...  "
      ]
     },
     "execution_count": 87,
     "metadata": {},
     "output_type": "execute_result"
    }
   ],
   "source": [
    "#Restauntsdataframe will have only restraunts or food related data\n",
    "Restauntsdataframe=dataframe_business.drop(index=nolist)\n",
    "Restauntsdataframe.head()\n"
   ]
  },
  {
   "cell_type": "code",
   "execution_count": 7,
   "metadata": {},
   "outputs": [],
   "source": [
    "Restauntsdataframe.to_csv(\"RestauntsdataframeRaw.csv\")"
   ]
  },
  {
   "cell_type": "code",
   "execution_count": 88,
   "metadata": {},
   "outputs": [
    {
     "data": {
      "text/plain": [
       "66301"
      ]
     },
     "execution_count": 88,
     "metadata": {},
     "output_type": "execute_result"
    }
   ],
   "source": [
    "len(Restauntsdataframe['name'])"
   ]
  },
  {
   "cell_type": "code",
   "execution_count": 89,
   "metadata": {},
   "outputs": [
    {
     "data": {
      "text/html": [
       "<div>\n",
       "<style scoped>\n",
       "    .dataframe tbody tr th:only-of-type {\n",
       "        vertical-align: middle;\n",
       "    }\n",
       "\n",
       "    .dataframe tbody tr th {\n",
       "        vertical-align: top;\n",
       "    }\n",
       "\n",
       "    .dataframe thead th {\n",
       "        text-align: right;\n",
       "    }\n",
       "</style>\n",
       "<table border=\"1\" class=\"dataframe\">\n",
       "  <thead>\n",
       "    <tr style=\"text-align: right;\">\n",
       "      <th></th>\n",
       "      <th>Unnamed: 0</th>\n",
       "      <th>latitude</th>\n",
       "      <th>longitude</th>\n",
       "      <th>stars</th>\n",
       "      <th>review_count</th>\n",
       "      <th>is_open</th>\n",
       "    </tr>\n",
       "  </thead>\n",
       "  <tbody>\n",
       "    <tr>\n",
       "      <th>count</th>\n",
       "      <td>66301.000000</td>\n",
       "      <td>66301.000000</td>\n",
       "      <td>66301.000000</td>\n",
       "      <td>66301.000000</td>\n",
       "      <td>66301.000000</td>\n",
       "      <td>66301.000000</td>\n",
       "    </tr>\n",
       "    <tr>\n",
       "      <th>mean</th>\n",
       "      <td>104511.754604</td>\n",
       "      <td>39.860655</td>\n",
       "      <td>-92.972211</td>\n",
       "      <td>3.479337</td>\n",
       "      <td>77.988990</td>\n",
       "      <td>0.722025</td>\n",
       "    </tr>\n",
       "    <tr>\n",
       "      <th>std</th>\n",
       "      <td>60301.615697</td>\n",
       "      <td>4.975191</td>\n",
       "      <td>16.606307</td>\n",
       "      <td>0.801551</td>\n",
       "      <td>197.341518</td>\n",
       "      <td>0.448004</td>\n",
       "    </tr>\n",
       "    <tr>\n",
       "      <th>min</th>\n",
       "      <td>8.000000</td>\n",
       "      <td>21.497258</td>\n",
       "      <td>-158.025525</td>\n",
       "      <td>1.000000</td>\n",
       "      <td>3.000000</td>\n",
       "      <td>0.000000</td>\n",
       "    </tr>\n",
       "    <tr>\n",
       "      <th>25%</th>\n",
       "      <td>52500.000000</td>\n",
       "      <td>35.222709</td>\n",
       "      <td>-112.074080</td>\n",
       "      <td>3.000000</td>\n",
       "      <td>9.000000</td>\n",
       "      <td>0.000000</td>\n",
       "    </tr>\n",
       "    <tr>\n",
       "      <th>50%</th>\n",
       "      <td>104344.000000</td>\n",
       "      <td>40.538809</td>\n",
       "      <td>-81.480964</td>\n",
       "      <td>3.500000</td>\n",
       "      <td>25.000000</td>\n",
       "      <td>1.000000</td>\n",
       "    </tr>\n",
       "    <tr>\n",
       "      <th>75%</th>\n",
       "      <td>156505.000000</td>\n",
       "      <td>43.678997</td>\n",
       "      <td>-79.451164</td>\n",
       "      <td>4.000000</td>\n",
       "      <td>72.000000</td>\n",
       "      <td>1.000000</td>\n",
       "    </tr>\n",
       "    <tr>\n",
       "      <th>max</th>\n",
       "      <td>209390.000000</td>\n",
       "      <td>51.299943</td>\n",
       "      <td>-72.806550</td>\n",
       "      <td>5.000000</td>\n",
       "      <td>10129.000000</td>\n",
       "      <td>1.000000</td>\n",
       "    </tr>\n",
       "  </tbody>\n",
       "</table>\n",
       "</div>"
      ],
      "text/plain": [
       "          Unnamed: 0      latitude     longitude         stars  review_count  \\\n",
       "count   66301.000000  66301.000000  66301.000000  66301.000000  66301.000000   \n",
       "mean   104511.754604     39.860655    -92.972211      3.479337     77.988990   \n",
       "std     60301.615697      4.975191     16.606307      0.801551    197.341518   \n",
       "min         8.000000     21.497258   -158.025525      1.000000      3.000000   \n",
       "25%     52500.000000     35.222709   -112.074080      3.000000      9.000000   \n",
       "50%    104344.000000     40.538809    -81.480964      3.500000     25.000000   \n",
       "75%    156505.000000     43.678997    -79.451164      4.000000     72.000000   \n",
       "max    209390.000000     51.299943    -72.806550      5.000000  10129.000000   \n",
       "\n",
       "            is_open  \n",
       "count  66301.000000  \n",
       "mean       0.722025  \n",
       "std        0.448004  \n",
       "min        0.000000  \n",
       "25%        0.000000  \n",
       "50%        1.000000  \n",
       "75%        1.000000  \n",
       "max        1.000000  "
      ]
     },
     "execution_count": 89,
     "metadata": {},
     "output_type": "execute_result"
    }
   ],
   "source": [
    "Restauntsdataframe.describe()"
   ]
  },
  {
   "cell_type": "code",
   "execution_count": 90,
   "metadata": {},
   "outputs": [
    {
     "data": {
      "text/plain": [
       "66301"
      ]
     },
     "execution_count": 90,
     "metadata": {},
     "output_type": "execute_result"
    }
   ],
   "source": [
    "#del datframe_business['Unnamed: 0']\n",
    "Restauntsdataframe.categories = dataframe_business.categories.fillna('')\n",
    "len(Restauntsdataframe['name'])"
   ]
  },
  {
   "cell_type": "code",
   "execution_count": 92,
   "metadata": {},
   "outputs": [
    {
     "name": "stdout",
     "output_type": "stream",
     "text": [
      "66301\n",
      "284020\n"
     ]
    }
   ],
   "source": [
    "#Spliting the rows in categories col.this we will use to list out all the categories and unique categories present\n",
    "l1=[]\n",
    "l2=[]\n",
    "count=0\n",
    "for i in Restauntsdataframe['categories']:\n",
    "        j=i.split(\",\")\n",
    "        l2.append(j)\n",
    "        for k in j:\n",
    "            l1.append(k)\n",
    "print(len(l2))\n",
    "print(len(l1))"
   ]
  },
  {
   "cell_type": "code",
   "execution_count": 93,
   "metadata": {},
   "outputs": [
    {
     "name": "stdout",
     "output_type": "stream",
     "text": [
      "['Event Planning & Services', ' Caterers', ' Italian', ' Pizza', ' Restaurants']\n",
      "['Gastropubs', ' Food', ' Restaurants', ' Breakfast & Brunch', ' Desserts', ' American (Traditional)', ' Tapas Bars', ' Diners']\n",
      "['Restaurants', ' Delis']\n",
      "['Food', ' Coffee & Tea']\n",
      "['American (New)', ' Restaurants', ' Italian', ' Canadian (New)']\n",
      "['Nightlife', ' Bars', ' Persian/Iranian', ' Lounges', ' Food', ' Middle Eastern', ' Restaurants', ' Desserts']\n",
      "['Seafood', ' Restaurants', ' Sandwiches']\n",
      "['Shopping', ' Sandwiches', ' Food', ' Coffee & Tea', ' Fast Food', ' Hot Dogs', ' Restaurants', ' Shopping Centers', ' Mexican', ' Food Stands']\n",
      "['Specialty Food', ' Grocery', ' Fruits & Veggies', ' Food', ' Shopping', ' Wholesalers', ' Restaurant Supplies', ' Wholesale Stores', ' Professional Services']\n",
      "['Restaurants', ' Food', ' American (New)']\n",
      "['Ice Cream & Frozen Yogurt', ' Food', ' Shaved Ice', ' Water Stores', ' Local Services']\n",
      "['Italian', ' Pizza', ' Restaurants', ' American (Traditional)']\n",
      "['Restaurants', ' American (Traditional)', ' Breakfast & Brunch', ' Burgers']\n",
      "['Restaurants', ' Vietnamese']\n",
      "['Coffee & Tea', ' Sandwiches', ' Food', ' Caterers', ' Event Planning & Services', ' Restaurants', ' Breakfast & Brunch']\n"
     ]
    }
   ],
   "source": [
    "for i in range(1235,1250):\n",
    "    print(l2[i])"
   ]
  },
  {
   "cell_type": "code",
   "execution_count": 94,
   "metadata": {},
   "outputs": [
    {
     "name": "stdout",
     "output_type": "stream",
     "text": [
      "284020\n",
      "66301\n"
     ]
    }
   ],
   "source": [
    "#stemming the words, stemming converts \"restarunts\" & \"restraunt\" to \"restaur\"\n",
    "\n",
    "from nltk.stem import PorterStemmer\n",
    "from nltk.tokenize import word_tokenize\n",
    "\n",
    "#words = word_tokenize(sentence)\n",
    "ps = PorterStemmer()\n",
    "stemmedcat=[]\n",
    "stemmedcatlists=[]\n",
    "for loc in l2:\n",
    "    templ=[]\n",
    "    for w in loc:\n",
    "        rootWord=ps.stem(w)\n",
    "        rootWord=rootWord.lstrip()\n",
    "        stemmedcat.append(rootWord.lower())\n",
    "        templ.append(rootWord.lower())\n",
    "    stemmedcatlists.append(templ)\n",
    "print(len(stemmedcat))\n",
    "print(len(stemmedcatlists))"
   ]
  },
  {
   "cell_type": "code",
   "execution_count": 95,
   "metadata": {},
   "outputs": [
    {
     "name": "stdout",
     "output_type": "stream",
     "text": [
      "737\n",
      "737\n"
     ]
    }
   ],
   "source": [
    "setstemmedcat=set(stemmedcat)\n",
    "print(len(setstemmedcat))\n",
    "setstemmedcat=list(setstemmedcat)    \n",
    "print(len(setstemmedcat))    #no. of unique categories"
   ]
  },
  {
   "cell_type": "code",
   "execution_count": 96,
   "metadata": {},
   "outputs": [
    {
     "name": "stdout",
     "output_type": "stream",
     "text": [
      "737\n"
     ]
    }
   ],
   "source": [
    "countlist=[]\n",
    "for i in setstemmedcat: \n",
    "        curr_frequency = stemmedcat.count(i) \n",
    "        countlist.append([i,curr_frequency])\n",
    "print(len(countlist)) #count or frequency of each category       "
   ]
  },
  {
   "cell_type": "code",
   "execution_count": 97,
   "metadata": {},
   "outputs": [
    {
     "name": "stdout",
     "output_type": "stream",
     "text": [
      "['restaur', 55522]\n",
      "['food', 25026]\n",
      "['nightlif', 8486]\n",
      "['bar', 8145]\n",
      "['sandwich', 7295]\n",
      "['fast food', 7219]\n",
      "['american (traditional)', 6948]\n",
      "['coffee & tea', 6758]\n",
      "['pizza', 6440]\n",
      "['breakfast & brunch', 5695]\n",
      "['burger', 5537]\n",
      "['american (new)', 4744]\n",
      "['mexican', 4701]\n",
      "['italian', 4484]\n",
      "['chines', 4251]\n"
     ]
    }
   ],
   "source": [
    "#Top 15 categories\n",
    "countlist.sort(key = lambda x: x[1],reverse=True)\n",
    "for i in range(15):\n",
    "    print(countlist[i])\n",
    "length=len(countlist)    "
   ]
  },
  {
   "cell_type": "code",
   "execution_count": 98,
   "metadata": {},
   "outputs": [
    {
     "name": "stdout",
     "output_type": "stream",
     "text": [
      "['nightlif', 8486]\n",
      "['bar', 8145]\n",
      "['sandwich', 7295]\n",
      "['fast food', 7219]\n",
      "['american (traditional)', 6948]\n",
      "['coffee & tea', 6758]\n",
      "['pizza', 6440]\n",
      "['breakfast & brunch', 5695]\n",
      "['burger', 5537]\n",
      "['american (new)', 4744]\n",
      "['mexican', 4701]\n",
      "['italian', 4484]\n",
      "['chines', 4251]\n",
      "['specialty food', 3832]\n",
      "['cafe', 3141]\n"
     ]
    }
   ],
   "source": [
    "#Top 15 categories on removing restaur and &food\n",
    "newcountlist=countlist[2:length]\n",
    "for i in range(15):\n",
    "    print(newcountlist[i])"
   ]
  },
  {
   "cell_type": "code",
   "execution_count": 99,
   "metadata": {},
   "outputs": [
    {
     "data": {
      "text/html": [
       "<div>\n",
       "<style scoped>\n",
       "    .dataframe tbody tr th:only-of-type {\n",
       "        vertical-align: middle;\n",
       "    }\n",
       "\n",
       "    .dataframe tbody tr th {\n",
       "        vertical-align: top;\n",
       "    }\n",
       "\n",
       "    .dataframe thead th {\n",
       "        text-align: right;\n",
       "    }\n",
       "</style>\n",
       "<table border=\"1\" class=\"dataframe\">\n",
       "  <thead>\n",
       "    <tr style=\"text-align: right;\">\n",
       "      <th></th>\n",
       "      <th>Unnamed: 0</th>\n",
       "      <th>business_id</th>\n",
       "      <th>name</th>\n",
       "      <th>address</th>\n",
       "      <th>city</th>\n",
       "      <th>state</th>\n",
       "      <th>postal_code</th>\n",
       "      <th>latitude</th>\n",
       "      <th>longitude</th>\n",
       "      <th>stars</th>\n",
       "      <th>review_count</th>\n",
       "      <th>is_open</th>\n",
       "      <th>attributes</th>\n",
       "      <th>categories</th>\n",
       "      <th>hours</th>\n",
       "    </tr>\n",
       "  </thead>\n",
       "  <tbody>\n",
       "    <tr>\n",
       "      <th>8</th>\n",
       "      <td>8</td>\n",
       "      <td>pQeaRpvuhoEqudo3uymHIQ</td>\n",
       "      <td>The Empanadas House</td>\n",
       "      <td>404 E Green St</td>\n",
       "      <td>Champaign</td>\n",
       "      <td>IL</td>\n",
       "      <td>61820</td>\n",
       "      <td>40.110446</td>\n",
       "      <td>-88.233073</td>\n",
       "      <td>4.5</td>\n",
       "      <td>5</td>\n",
       "      <td>1</td>\n",
       "      <td>{'RestaurantsAttire': \"u'casual'\", 'Restaurant...</td>\n",
       "      <td>Ethnic Food, Food Trucks, Specialty Food, Impo...</td>\n",
       "      <td>{'Monday': '11:30-14:30', 'Tuesday': '11:30-14...</td>\n",
       "    </tr>\n",
       "    <tr>\n",
       "      <th>12</th>\n",
       "      <td>12</td>\n",
       "      <td>M_guz7Dj7hX0evS672wIwA</td>\n",
       "      <td>Chocolate Shoppe Ice Cream</td>\n",
       "      <td>2831 Parmenter St</td>\n",
       "      <td>Middleton</td>\n",
       "      <td>WI</td>\n",
       "      <td>53562</td>\n",
       "      <td>43.105310</td>\n",
       "      <td>-89.510142</td>\n",
       "      <td>3.5</td>\n",
       "      <td>6</td>\n",
       "      <td>1</td>\n",
       "      <td>{'BikeParking': 'True', 'Caters': 'True', 'Whe...</td>\n",
       "      <td>Desserts, Food, Ice Cream &amp; Frozen Yogurt</td>\n",
       "      <td>{'Monday': '0:0-0:0', 'Tuesday': '11:0-21:0', ...</td>\n",
       "    </tr>\n",
       "    <tr>\n",
       "      <th>20</th>\n",
       "      <td>20</td>\n",
       "      <td>CsLQLiRoafpJPJSkNX2h5Q</td>\n",
       "      <td>Middle East Deli</td>\n",
       "      <td>4508 E Independence Blvd</td>\n",
       "      <td>Charlotte</td>\n",
       "      <td>NC</td>\n",
       "      <td>28205</td>\n",
       "      <td>35.194894</td>\n",
       "      <td>-80.767442</td>\n",
       "      <td>3.0</td>\n",
       "      <td>5</td>\n",
       "      <td>0</td>\n",
       "      <td>{'RestaurantsGoodForGroups': 'True', 'OutdoorS...</td>\n",
       "      <td>Food, Restaurants, Grocery, Middle Eastern</td>\n",
       "      <td>NaN</td>\n",
       "    </tr>\n",
       "    <tr>\n",
       "      <th>21</th>\n",
       "      <td>21</td>\n",
       "      <td>x3Po6tJGb729u_HJPY6UCA</td>\n",
       "      <td>Glendale Glitters</td>\n",
       "      <td>5850 W Glendale Avenue</td>\n",
       "      <td>Glendale</td>\n",
       "      <td>AZ</td>\n",
       "      <td>85301</td>\n",
       "      <td>33.538950</td>\n",
       "      <td>-112.185178</td>\n",
       "      <td>2.5</td>\n",
       "      <td>52</td>\n",
       "      <td>1</td>\n",
       "      <td>{'GoodForKids': 'True', 'BikeParking': 'True',...</td>\n",
       "      <td>Arts &amp; Entertainment, Festivals, Local Flavor</td>\n",
       "      <td>{'Friday': '18:0-22:0', 'Saturday': '18:0-22:0...</td>\n",
       "    </tr>\n",
       "    <tr>\n",
       "      <th>24</th>\n",
       "      <td>24</td>\n",
       "      <td>eBEfgOPG7pvFhb2wcG9I7w</td>\n",
       "      <td>Philthy Phillys</td>\n",
       "      <td>15480 Bayview Avenue, unit D0110</td>\n",
       "      <td>Aurora</td>\n",
       "      <td>ON</td>\n",
       "      <td>L4G 7J1</td>\n",
       "      <td>44.010962</td>\n",
       "      <td>-79.448677</td>\n",
       "      <td>4.5</td>\n",
       "      <td>4</td>\n",
       "      <td>1</td>\n",
       "      <td>{'RestaurantsTableService': 'False', 'Restaura...</td>\n",
       "      <td>Restaurants, Cheesesteaks, Poutineries</td>\n",
       "      <td>{'Monday': '11:0-22:0', 'Tuesday': '11:0-22:0'...</td>\n",
       "    </tr>\n",
       "  </tbody>\n",
       "</table>\n",
       "</div>"
      ],
      "text/plain": [
       "    Unnamed: 0             business_id                        name  \\\n",
       "8            8  pQeaRpvuhoEqudo3uymHIQ         The Empanadas House   \n",
       "12          12  M_guz7Dj7hX0evS672wIwA  Chocolate Shoppe Ice Cream   \n",
       "20          20  CsLQLiRoafpJPJSkNX2h5Q            Middle East Deli   \n",
       "21          21  x3Po6tJGb729u_HJPY6UCA           Glendale Glitters   \n",
       "24          24  eBEfgOPG7pvFhb2wcG9I7w             Philthy Phillys   \n",
       "\n",
       "                             address       city state postal_code   latitude  \\\n",
       "8                     404 E Green St  Champaign    IL       61820  40.110446   \n",
       "12                 2831 Parmenter St  Middleton    WI       53562  43.105310   \n",
       "20          4508 E Independence Blvd  Charlotte    NC       28205  35.194894   \n",
       "21            5850 W Glendale Avenue   Glendale    AZ       85301  33.538950   \n",
       "24  15480 Bayview Avenue, unit D0110     Aurora    ON     L4G 7J1  44.010962   \n",
       "\n",
       "     longitude  stars  review_count  is_open  \\\n",
       "8   -88.233073    4.5             5        1   \n",
       "12  -89.510142    3.5             6        1   \n",
       "20  -80.767442    3.0             5        0   \n",
       "21 -112.185178    2.5            52        1   \n",
       "24  -79.448677    4.5             4        1   \n",
       "\n",
       "                                           attributes  \\\n",
       "8   {'RestaurantsAttire': \"u'casual'\", 'Restaurant...   \n",
       "12  {'BikeParking': 'True', 'Caters': 'True', 'Whe...   \n",
       "20  {'RestaurantsGoodForGroups': 'True', 'OutdoorS...   \n",
       "21  {'GoodForKids': 'True', 'BikeParking': 'True',...   \n",
       "24  {'RestaurantsTableService': 'False', 'Restaura...   \n",
       "\n",
       "                                           categories  \\\n",
       "8   Ethnic Food, Food Trucks, Specialty Food, Impo...   \n",
       "12          Desserts, Food, Ice Cream & Frozen Yogurt   \n",
       "20         Food, Restaurants, Grocery, Middle Eastern   \n",
       "21      Arts & Entertainment, Festivals, Local Flavor   \n",
       "24             Restaurants, Cheesesteaks, Poutineries   \n",
       "\n",
       "                                                hours  \n",
       "8   {'Monday': '11:30-14:30', 'Tuesday': '11:30-14...  \n",
       "12  {'Monday': '0:0-0:0', 'Tuesday': '11:0-21:0', ...  \n",
       "20                                                NaN  \n",
       "21  {'Friday': '18:0-22:0', 'Saturday': '18:0-22:0...  \n",
       "24  {'Monday': '11:0-22:0', 'Tuesday': '11:0-22:0'...  "
      ]
     },
     "execution_count": 99,
     "metadata": {},
     "output_type": "execute_result"
    }
   ],
   "source": [
    "#copying the dataframe\n",
    "RestauntCat=Restauntsdataframe.copy() \n",
    "RestauntCat.head()"
   ]
  },
  {
   "cell_type": "code",
   "execution_count": 146,
   "metadata": {},
   "outputs": [
    {
     "name": "stdout",
     "output_type": "stream",
     "text": [
      "<class 'list'>\n"
     ]
    }
   ],
   "source": [
    "# to the restraunts dataframe assiging the splitcategory listRestauntCat['categories']=stemmedcatlists\n",
    "business_id=list(RestauntCat['business_id'])\n",
    "name=RestauntCat['name']\n",
    "RestauntCat.head()\n",
    "print(type(business_id))"
   ]
  },
  {
   "cell_type": "markdown",
   "metadata": {},
   "source": [
    "### One hot encoding of the categories"
   ]
  },
  {
   "cell_type": "code",
   "execution_count": 147,
   "metadata": {},
   "outputs": [
    {
     "name": "stdout",
     "output_type": "stream",
     "text": [
      "pQeaRpvuhoEqudo3uymHIQ\n",
      "284020\n"
     ]
    },
    {
     "data": {
      "text/html": [
       "<div>\n",
       "<style scoped>\n",
       "    .dataframe tbody tr th:only-of-type {\n",
       "        vertical-align: middle;\n",
       "    }\n",
       "\n",
       "    .dataframe tbody tr th {\n",
       "        vertical-align: top;\n",
       "    }\n",
       "\n",
       "    .dataframe thead th {\n",
       "        text-align: right;\n",
       "    }\n",
       "</style>\n",
       "<table border=\"1\" class=\"dataframe\">\n",
       "  <thead>\n",
       "    <tr style=\"text-align: right;\">\n",
       "      <th></th>\n",
       "      <th>Bid</th>\n",
       "      <th>Category</th>\n",
       "    </tr>\n",
       "  </thead>\n",
       "  <tbody>\n",
       "    <tr>\n",
       "      <th>0</th>\n",
       "      <td>pQeaRpvuhoEqudo3uymHIQ</td>\n",
       "      <td>ethnic food</td>\n",
       "    </tr>\n",
       "    <tr>\n",
       "      <th>1</th>\n",
       "      <td>pQeaRpvuhoEqudo3uymHIQ</td>\n",
       "      <td>food truck</td>\n",
       "    </tr>\n",
       "    <tr>\n",
       "      <th>2</th>\n",
       "      <td>pQeaRpvuhoEqudo3uymHIQ</td>\n",
       "      <td>specialty food</td>\n",
       "    </tr>\n",
       "    <tr>\n",
       "      <th>3</th>\n",
       "      <td>pQeaRpvuhoEqudo3uymHIQ</td>\n",
       "      <td>imported food</td>\n",
       "    </tr>\n",
       "    <tr>\n",
       "      <th>4</th>\n",
       "      <td>pQeaRpvuhoEqudo3uymHIQ</td>\n",
       "      <td>argentin</td>\n",
       "    </tr>\n",
       "    <tr>\n",
       "      <th>5</th>\n",
       "      <td>pQeaRpvuhoEqudo3uymHIQ</td>\n",
       "      <td>food</td>\n",
       "    </tr>\n",
       "    <tr>\n",
       "      <th>6</th>\n",
       "      <td>pQeaRpvuhoEqudo3uymHIQ</td>\n",
       "      <td>restaur</td>\n",
       "    </tr>\n",
       "    <tr>\n",
       "      <th>7</th>\n",
       "      <td>pQeaRpvuhoEqudo3uymHIQ</td>\n",
       "      <td>empanada</td>\n",
       "    </tr>\n",
       "    <tr>\n",
       "      <th>8</th>\n",
       "      <td>M_guz7Dj7hX0evS672wIwA</td>\n",
       "      <td>dessert</td>\n",
       "    </tr>\n",
       "    <tr>\n",
       "      <th>9</th>\n",
       "      <td>M_guz7Dj7hX0evS672wIwA</td>\n",
       "      <td>food</td>\n",
       "    </tr>\n",
       "  </tbody>\n",
       "</table>\n",
       "</div>"
      ],
      "text/plain": [
       "                      Bid        Category\n",
       "0  pQeaRpvuhoEqudo3uymHIQ     ethnic food\n",
       "1  pQeaRpvuhoEqudo3uymHIQ      food truck\n",
       "2  pQeaRpvuhoEqudo3uymHIQ  specialty food\n",
       "3  pQeaRpvuhoEqudo3uymHIQ   imported food\n",
       "4  pQeaRpvuhoEqudo3uymHIQ        argentin\n",
       "5  pQeaRpvuhoEqudo3uymHIQ            food\n",
       "6  pQeaRpvuhoEqudo3uymHIQ         restaur\n",
       "7  pQeaRpvuhoEqudo3uymHIQ        empanada\n",
       "8  M_guz7Dj7hX0evS672wIwA         dessert\n",
       "9  M_guz7Dj7hX0evS672wIwA            food"
      ]
     },
     "execution_count": 147,
     "metadata": {},
     "output_type": "execute_result"
    }
   ],
   "source": [
    "listonehot=[]\n",
    "list\n",
    "print(business_id[0])\n",
    "for i in range(len(business_id)):\n",
    "    #print(i)\n",
    "    bid=business_id[i]\n",
    "    catlist=stemmedcatlists[i]\n",
    "    for h in catlist:\n",
    "        listonehot.append([bid,h])\n",
    "        \n",
    "print(len(listonehot)) \n",
    "\n",
    "dfonehot = pd.DataFrame(listonehot, columns = ['Bid', 'Category']) \n",
    "dfonehot1=dfonehot.copy()\n",
    "dfonehot1.head(10)\n"
   ]
  },
  {
   "cell_type": "code",
   "execution_count": 148,
   "metadata": {},
   "outputs": [
    {
     "name": "stdout",
     "output_type": "stream",
     "text": [
      "length of values 284020\n",
      "[246 278 612 ... 106 560 257]\n",
      "<class 'numpy.ndarray'>\n",
      "<class 'numpy.ndarray'>\n",
      "[[0. 0. 0. ... 0. 0. 0.]\n",
      " [0. 0. 0. ... 0. 0. 0.]\n",
      " [0. 0. 0. ... 0. 0. 0.]\n",
      " ...\n",
      " [0. 0. 0. ... 0. 0. 0.]\n",
      " [0. 0. 0. ... 0. 0. 0.]\n",
      " [0. 0. 0. ... 0. 0. 0.]]\n",
      "284020\n"
     ]
    }
   ],
   "source": [
    "import numpy as np\n",
    "from numpy import array\n",
    "from numpy import argmax\n",
    "from sklearn.preprocessing import LabelEncoder\n",
    "from sklearn.preprocessing import OneHotEncoder\n",
    "# define example\n",
    "data = list(dfonehot1['Category'])\n",
    "values = array(data)\n",
    "print(\"length of values\",len(values))\n",
    "\n",
    "# integer encode\n",
    "label_encoder = LabelEncoder()\n",
    "integer_encoded = label_encoder.fit_transform(values)\n",
    "print(integer_encoded)\n",
    "print(type(integer_encoded))\n",
    "\n",
    "\n",
    "# binary encode\n",
    "onehot_encoder = OneHotEncoder(categories='auto',sparse=False)\n",
    "integer_encoded = integer_encoded.reshape(integer_encoded.size, 1)\n",
    "print(type(integer_encoded))\n",
    "onehot_encoded = onehot_encoder.fit_transform(integer_encoded)\n",
    "print(onehot_encoded)\n",
    "print(len(onehot_encoded))\n"
   ]
  },
  {
   "cell_type": "code",
   "execution_count": 149,
   "metadata": {},
   "outputs": [
    {
     "name": "stdout",
     "output_type": "stream",
     "text": [
      "284020\n"
     ]
    },
    {
     "data": {
      "text/html": [
       "<div>\n",
       "<style scoped>\n",
       "    .dataframe tbody tr th:only-of-type {\n",
       "        vertical-align: middle;\n",
       "    }\n",
       "\n",
       "    .dataframe tbody tr th {\n",
       "        vertical-align: top;\n",
       "    }\n",
       "\n",
       "    .dataframe thead th {\n",
       "        text-align: right;\n",
       "    }\n",
       "</style>\n",
       "<table border=\"1\" class=\"dataframe\">\n",
       "  <thead>\n",
       "    <tr style=\"text-align: right;\">\n",
       "      <th></th>\n",
       "      <th>Bid</th>\n",
       "      <th>Category</th>\n",
       "      <th>integer_encoded_value</th>\n",
       "      <th>onehot_encoded</th>\n",
       "    </tr>\n",
       "  </thead>\n",
       "  <tbody>\n",
       "    <tr>\n",
       "      <th>0</th>\n",
       "      <td>pQeaRpvuhoEqudo3uymHIQ</td>\n",
       "      <td>ethnic food</td>\n",
       "      <td>246</td>\n",
       "      <td>[0.0, 0.0, 0.0, 0.0, 0.0, 0.0, 0.0, 0.0, 0.0, ...</td>\n",
       "    </tr>\n",
       "    <tr>\n",
       "      <th>1</th>\n",
       "      <td>pQeaRpvuhoEqudo3uymHIQ</td>\n",
       "      <td>food truck</td>\n",
       "      <td>278</td>\n",
       "      <td>[0.0, 0.0, 0.0, 0.0, 0.0, 0.0, 0.0, 0.0, 0.0, ...</td>\n",
       "    </tr>\n",
       "    <tr>\n",
       "      <th>2</th>\n",
       "      <td>pQeaRpvuhoEqudo3uymHIQ</td>\n",
       "      <td>specialty food</td>\n",
       "      <td>612</td>\n",
       "      <td>[0.0, 0.0, 0.0, 0.0, 0.0, 0.0, 0.0, 0.0, 0.0, ...</td>\n",
       "    </tr>\n",
       "    <tr>\n",
       "      <th>3</th>\n",
       "      <td>pQeaRpvuhoEqudo3uymHIQ</td>\n",
       "      <td>imported food</td>\n",
       "      <td>352</td>\n",
       "      <td>[0.0, 0.0, 0.0, 0.0, 0.0, 0.0, 0.0, 0.0, 0.0, ...</td>\n",
       "    </tr>\n",
       "    <tr>\n",
       "      <th>4</th>\n",
       "      <td>pQeaRpvuhoEqudo3uymHIQ</td>\n",
       "      <td>argentin</td>\n",
       "      <td>30</td>\n",
       "      <td>[0.0, 0.0, 0.0, 0.0, 0.0, 0.0, 0.0, 0.0, 0.0, ...</td>\n",
       "    </tr>\n",
       "    <tr>\n",
       "      <th>5</th>\n",
       "      <td>pQeaRpvuhoEqudo3uymHIQ</td>\n",
       "      <td>food</td>\n",
       "      <td>272</td>\n",
       "      <td>[0.0, 0.0, 0.0, 0.0, 0.0, 0.0, 0.0, 0.0, 0.0, ...</td>\n",
       "    </tr>\n",
       "    <tr>\n",
       "      <th>6</th>\n",
       "      <td>pQeaRpvuhoEqudo3uymHIQ</td>\n",
       "      <td>restaur</td>\n",
       "      <td>560</td>\n",
       "      <td>[0.0, 0.0, 0.0, 0.0, 0.0, 0.0, 0.0, 0.0, 0.0, ...</td>\n",
       "    </tr>\n",
       "    <tr>\n",
       "      <th>7</th>\n",
       "      <td>pQeaRpvuhoEqudo3uymHIQ</td>\n",
       "      <td>empanada</td>\n",
       "      <td>239</td>\n",
       "      <td>[0.0, 0.0, 0.0, 0.0, 0.0, 0.0, 0.0, 0.0, 0.0, ...</td>\n",
       "    </tr>\n",
       "    <tr>\n",
       "      <th>8</th>\n",
       "      <td>M_guz7Dj7hX0evS672wIwA</td>\n",
       "      <td>dessert</td>\n",
       "      <td>209</td>\n",
       "      <td>[0.0, 0.0, 0.0, 0.0, 0.0, 0.0, 0.0, 0.0, 0.0, ...</td>\n",
       "    </tr>\n",
       "    <tr>\n",
       "      <th>9</th>\n",
       "      <td>M_guz7Dj7hX0evS672wIwA</td>\n",
       "      <td>food</td>\n",
       "      <td>272</td>\n",
       "      <td>[0.0, 0.0, 0.0, 0.0, 0.0, 0.0, 0.0, 0.0, 0.0, ...</td>\n",
       "    </tr>\n",
       "  </tbody>\n",
       "</table>\n",
       "</div>"
      ],
      "text/plain": [
       "                      Bid        Category  integer_encoded_value  \\\n",
       "0  pQeaRpvuhoEqudo3uymHIQ     ethnic food                    246   \n",
       "1  pQeaRpvuhoEqudo3uymHIQ      food truck                    278   \n",
       "2  pQeaRpvuhoEqudo3uymHIQ  specialty food                    612   \n",
       "3  pQeaRpvuhoEqudo3uymHIQ   imported food                    352   \n",
       "4  pQeaRpvuhoEqudo3uymHIQ        argentin                     30   \n",
       "5  pQeaRpvuhoEqudo3uymHIQ            food                    272   \n",
       "6  pQeaRpvuhoEqudo3uymHIQ         restaur                    560   \n",
       "7  pQeaRpvuhoEqudo3uymHIQ        empanada                    239   \n",
       "8  M_guz7Dj7hX0evS672wIwA         dessert                    209   \n",
       "9  M_guz7Dj7hX0evS672wIwA            food                    272   \n",
       "\n",
       "                                      onehot_encoded  \n",
       "0  [0.0, 0.0, 0.0, 0.0, 0.0, 0.0, 0.0, 0.0, 0.0, ...  \n",
       "1  [0.0, 0.0, 0.0, 0.0, 0.0, 0.0, 0.0, 0.0, 0.0, ...  \n",
       "2  [0.0, 0.0, 0.0, 0.0, 0.0, 0.0, 0.0, 0.0, 0.0, ...  \n",
       "3  [0.0, 0.0, 0.0, 0.0, 0.0, 0.0, 0.0, 0.0, 0.0, ...  \n",
       "4  [0.0, 0.0, 0.0, 0.0, 0.0, 0.0, 0.0, 0.0, 0.0, ...  \n",
       "5  [0.0, 0.0, 0.0, 0.0, 0.0, 0.0, 0.0, 0.0, 0.0, ...  \n",
       "6  [0.0, 0.0, 0.0, 0.0, 0.0, 0.0, 0.0, 0.0, 0.0, ...  \n",
       "7  [0.0, 0.0, 0.0, 0.0, 0.0, 0.0, 0.0, 0.0, 0.0, ...  \n",
       "8  [0.0, 0.0, 0.0, 0.0, 0.0, 0.0, 0.0, 0.0, 0.0, ...  \n",
       "9  [0.0, 0.0, 0.0, 0.0, 0.0, 0.0, 0.0, 0.0, 0.0, ...  "
      ]
     },
     "execution_count": 149,
     "metadata": {},
     "output_type": "execute_result"
    }
   ],
   "source": [
    "#Creating a one-hot encoded dataframe\n",
    "dfonehot1['integer_encoded_value']=integer_encoded\n",
    "dfonehot1['onehot_encoded']=list(onehot_encoded)\n",
    "\n",
    "print(len(onehot_encoded))\n",
    "dfonehot1.head(10)"
   ]
  },
  {
   "cell_type": "code",
   "execution_count": 162,
   "metadata": {},
   "outputs": [
    {
     "data": {
      "text/plain": [
       "8     [0.0, 0.0, 0.0, 0.0, 0.0, 0.0, 0.0, 0.0, 0.0, ...\n",
       "9     [0.0, 0.0, 0.0, 0.0, 0.0, 0.0, 0.0, 0.0, 0.0, ...\n",
       "10    [0.0, 0.0, 0.0, 0.0, 0.0, 0.0, 0.0, 0.0, 0.0, ...\n",
       "Name: onehot_encoded, dtype: object"
      ]
     },
     "execution_count": 162,
     "metadata": {},
     "output_type": "execute_result"
    }
   ],
   "source": [
    "f_filter = dfonehot1['Bid']=='M_guz7Dj7hX0evS672wIwA'\n",
    "subsetdf=dfonehot1[f_filter]\n",
    "type(subsetdf)\n",
    "subsetdf['onehot_encoded']"
   ]
  },
  {
   "cell_type": "code",
   "execution_count": 177,
   "metadata": {},
   "outputs": [
    {
     "name": "stdout",
     "output_type": "stream",
     "text": [
      "66301\n",
      "['CsLQLiRoafpJPJSkNX2h5Q', 'Middle East Deli', ['food', 'restaur', 'groceri', 'middle eastern'], [272, 560, 301, 435], array([0., 0., 0., 0., 0., 0., 0., 0., 0., 0., 0., 0., 0., 0., 0., 0., 0.,\n",
      "       0., 0., 0., 0., 0., 0., 0., 0., 0., 0., 0., 0., 0., 0., 0., 0., 0.,\n",
      "       0., 0., 0., 0., 0., 0., 0., 0., 0., 0., 0., 0., 0., 0., 0., 0., 0.,\n",
      "       0., 0., 0., 0., 0., 0., 0., 0., 0., 0., 0., 0., 0., 0., 0., 0., 0.,\n",
      "       0., 0., 0., 0., 0., 0., 0., 0., 0., 0., 0., 0., 0., 0., 0., 0., 0.,\n",
      "       0., 0., 0., 0., 0., 0., 0., 0., 0., 0., 0., 0., 0., 0., 0., 0., 0.,\n",
      "       0., 0., 0., 0., 0., 0., 0., 0., 0., 0., 0., 0., 0., 0., 0., 0., 0.,\n",
      "       0., 0., 0., 0., 0., 0., 0., 0., 0., 0., 0., 0., 0., 0., 0., 0., 0.,\n",
      "       0., 0., 0., 0., 0., 0., 0., 0., 0., 0., 0., 0., 0., 0., 0., 0., 0.,\n",
      "       0., 0., 0., 0., 0., 0., 0., 0., 0., 0., 0., 0., 0., 0., 0., 0., 0.,\n",
      "       0., 0., 0., 0., 0., 0., 0., 0., 0., 0., 0., 0., 0., 0., 0., 0., 0.,\n",
      "       0., 0., 0., 0., 0., 0., 0., 0., 0., 0., 0., 0., 0., 0., 0., 0., 0.,\n",
      "       0., 0., 0., 0., 0., 0., 0., 0., 0., 0., 0., 0., 0., 0., 0., 0., 0.,\n",
      "       0., 0., 0., 0., 0., 0., 0., 0., 0., 0., 0., 0., 0., 0., 0., 0., 0.,\n",
      "       0., 0., 0., 0., 0., 0., 0., 0., 0., 0., 0., 0., 0., 0., 0., 0., 0.,\n",
      "       0., 0., 0., 0., 0., 0., 0., 0., 0., 0., 0., 0., 0., 0., 0., 0., 0.,\n",
      "       1., 0., 0., 0., 0., 0., 0., 0., 0., 0., 0., 0., 0., 0., 0., 0., 0.,\n",
      "       0., 0., 0., 0., 0., 0., 0., 0., 0., 0., 0., 0., 1., 0., 0., 0., 0.,\n",
      "       0., 0., 0., 0., 0., 0., 0., 0., 0., 0., 0., 0., 0., 0., 0., 0., 0.,\n",
      "       0., 0., 0., 0., 0., 0., 0., 0., 0., 0., 0., 0., 0., 0., 0., 0., 0.,\n",
      "       0., 0., 0., 0., 0., 0., 0., 0., 0., 0., 0., 0., 0., 0., 0., 0., 0.,\n",
      "       0., 0., 0., 0., 0., 0., 0., 0., 0., 0., 0., 0., 0., 0., 0., 0., 0.,\n",
      "       0., 0., 0., 0., 0., 0., 0., 0., 0., 0., 0., 0., 0., 0., 0., 0., 0.,\n",
      "       0., 0., 0., 0., 0., 0., 0., 0., 0., 0., 0., 0., 0., 0., 0., 0., 0.,\n",
      "       0., 0., 0., 0., 0., 0., 0., 0., 0., 0., 0., 0., 0., 0., 0., 0., 0.,\n",
      "       0., 0., 0., 0., 0., 0., 0., 0., 0., 0., 1., 0., 0., 0., 0., 0., 0.,\n",
      "       0., 0., 0., 0., 0., 0., 0., 0., 0., 0., 0., 0., 0., 0., 0., 0., 0.,\n",
      "       0., 0., 0., 0., 0., 0., 0., 0., 0., 0., 0., 0., 0., 0., 0., 0., 0.,\n",
      "       0., 0., 0., 0., 0., 0., 0., 0., 0., 0., 0., 0., 0., 0., 0., 0., 0.,\n",
      "       0., 0., 0., 0., 0., 0., 0., 0., 0., 0., 0., 0., 0., 0., 0., 0., 0.,\n",
      "       0., 0., 0., 0., 0., 0., 0., 0., 0., 0., 0., 0., 0., 0., 0., 0., 0.,\n",
      "       0., 0., 0., 0., 0., 0., 0., 0., 0., 0., 0., 0., 0., 0., 0., 0., 0.,\n",
      "       0., 0., 0., 0., 0., 0., 0., 0., 0., 0., 0., 0., 0., 0., 0., 0., 1.,\n",
      "       0., 0., 0., 0., 0., 0., 0., 0., 0., 0., 0., 0., 0., 0., 0., 0., 0.,\n",
      "       0., 0., 0., 0., 0., 0., 0., 0., 0., 0., 0., 0., 0., 0., 0., 0., 0.,\n",
      "       0., 0., 0., 0., 0., 0., 0., 0., 0., 0., 0., 0., 0., 0., 0., 0., 0.,\n",
      "       0., 0., 0., 0., 0., 0., 0., 0., 0., 0., 0., 0., 0., 0., 0., 0., 0.,\n",
      "       0., 0., 0., 0., 0., 0., 0., 0., 0., 0., 0., 0., 0., 0., 0., 0., 0.,\n",
      "       0., 0., 0., 0., 0., 0., 0., 0., 0., 0., 0., 0., 0., 0., 0., 0., 0.,\n",
      "       0., 0., 0., 0., 0., 0., 0., 0., 0., 0., 0., 0., 0., 0., 0., 0., 0.,\n",
      "       0., 0., 0., 0., 0., 0., 0., 0., 0., 0., 0., 0., 0., 0., 0., 0., 0.,\n",
      "       0., 0., 0., 0., 0., 0., 0., 0., 0., 0., 0., 0., 0., 0., 0., 0., 0.,\n",
      "       0., 0., 0., 0., 0., 0., 0., 0., 0., 0., 0., 0., 0., 0., 0., 0., 0.,\n",
      "       0., 0., 0., 0., 0., 0.])]\n"
     ]
    }
   ],
   "source": [
    "#Creating a final required data set\n",
    "final=[]\n",
    "for i in range(len(business_id)):\n",
    "    bid=business_id[i]#bid to serach\n",
    "    #print(bid)\n",
    "    n=list(name)[i]\n",
    "    #print(n)\n",
    "    f_filter = dfonehot1['Bid']== bid\n",
    "    subsetdf=dfonehot1[f_filter]\n",
    "    #print(subsetdf)\n",
    "    cat=list(subsetdf['Category'])\n",
    "    integ=list(subsetdf['integer_encoded_value'])\n",
    "    onehot_encoded=list(subsetdf['onehot_encoded'])\n",
    "    res = np.sum(onehot_encoded, 0)\n",
    "    final.append([bid,n,cat,integ,res])\n",
    "    \n",
    "        \n",
    "print(len(final))\n",
    "print(final[2])"
   ]
  },
  {
   "cell_type": "code",
   "execution_count": 179,
   "metadata": {},
   "outputs": [],
   "source": [
    "finaldf=pd.DataFrame(final, columns = ['Bid', 'Name','Category','IntegerValue','OnehotEncoded']) \n",
    "finaldf.to_pickle('finaldf.pkl')"
   ]
  },
  {
   "cell_type": "code",
   "execution_count": 180,
   "metadata": {},
   "outputs": [],
   "source": [
    "finaldf.to_csv('finaldf.csv')"
   ]
  },
  {
   "cell_type": "code",
   "execution_count": 184,
   "metadata": {},
   "outputs": [
    {
     "data": {
      "text/html": [
       "<div>\n",
       "<style scoped>\n",
       "    .dataframe tbody tr th:only-of-type {\n",
       "        vertical-align: middle;\n",
       "    }\n",
       "\n",
       "    .dataframe tbody tr th {\n",
       "        vertical-align: top;\n",
       "    }\n",
       "\n",
       "    .dataframe thead th {\n",
       "        text-align: right;\n",
       "    }\n",
       "</style>\n",
       "<table border=\"1\" class=\"dataframe\">\n",
       "  <thead>\n",
       "    <tr style=\"text-align: right;\">\n",
       "      <th></th>\n",
       "      <th>Bid</th>\n",
       "      <th>Name</th>\n",
       "      <th>Category</th>\n",
       "      <th>IntegerValue</th>\n",
       "      <th>OnehotEncoded</th>\n",
       "    </tr>\n",
       "  </thead>\n",
       "  <tbody>\n",
       "    <tr>\n",
       "      <th>0</th>\n",
       "      <td>pQeaRpvuhoEqudo3uymHIQ</td>\n",
       "      <td>The Empanadas House</td>\n",
       "      <td>[ethnic food, food truck, specialty food, impo...</td>\n",
       "      <td>[246, 278, 612, 352, 30, 272, 560, 239]</td>\n",
       "      <td>[0.0, 0.0, 0.0, 0.0, 0.0, 0.0, 0.0, 0.0, 0.0, ...</td>\n",
       "    </tr>\n",
       "    <tr>\n",
       "      <th>1</th>\n",
       "      <td>M_guz7Dj7hX0evS672wIwA</td>\n",
       "      <td>Chocolate Shoppe Ice Cream</td>\n",
       "      <td>[dessert, food, ice cream &amp; frozen yogurt]</td>\n",
       "      <td>[209, 272, 350]</td>\n",
       "      <td>[0.0, 0.0, 0.0, 0.0, 0.0, 0.0, 0.0, 0.0, 0.0, ...</td>\n",
       "    </tr>\n",
       "    <tr>\n",
       "      <th>2</th>\n",
       "      <td>CsLQLiRoafpJPJSkNX2h5Q</td>\n",
       "      <td>Middle East Deli</td>\n",
       "      <td>[food, restaur, groceri, middle eastern]</td>\n",
       "      <td>[272, 560, 301, 435]</td>\n",
       "      <td>[0.0, 0.0, 0.0, 0.0, 0.0, 0.0, 0.0, 0.0, 0.0, ...</td>\n",
       "    </tr>\n",
       "    <tr>\n",
       "      <th>3</th>\n",
       "      <td>x3Po6tJGb729u_HJPY6UCA</td>\n",
       "      <td>Glendale Glitters</td>\n",
       "      <td>[arts &amp; entertain, festiv, local flavor]</td>\n",
       "      <td>[38, 258, 410]</td>\n",
       "      <td>[0.0, 0.0, 0.0, 0.0, 0.0, 0.0, 0.0, 0.0, 0.0, ...</td>\n",
       "    </tr>\n",
       "    <tr>\n",
       "      <th>4</th>\n",
       "      <td>eBEfgOPG7pvFhb2wcG9I7w</td>\n",
       "      <td>Philthy Phillys</td>\n",
       "      <td>[restaur, cheesesteak, poutineri]</td>\n",
       "      <td>[560, 141, 532]</td>\n",
       "      <td>[0.0, 0.0, 0.0, 0.0, 0.0, 0.0, 0.0, 0.0, 0.0, ...</td>\n",
       "    </tr>\n",
       "  </tbody>\n",
       "</table>\n",
       "</div>"
      ],
      "text/plain": [
       "                      Bid                        Name  \\\n",
       "0  pQeaRpvuhoEqudo3uymHIQ         The Empanadas House   \n",
       "1  M_guz7Dj7hX0evS672wIwA  Chocolate Shoppe Ice Cream   \n",
       "2  CsLQLiRoafpJPJSkNX2h5Q            Middle East Deli   \n",
       "3  x3Po6tJGb729u_HJPY6UCA           Glendale Glitters   \n",
       "4  eBEfgOPG7pvFhb2wcG9I7w             Philthy Phillys   \n",
       "\n",
       "                                            Category  \\\n",
       "0  [ethnic food, food truck, specialty food, impo...   \n",
       "1         [dessert, food, ice cream & frozen yogurt]   \n",
       "2           [food, restaur, groceri, middle eastern]   \n",
       "3           [arts & entertain, festiv, local flavor]   \n",
       "4                  [restaur, cheesesteak, poutineri]   \n",
       "\n",
       "                              IntegerValue  \\\n",
       "0  [246, 278, 612, 352, 30, 272, 560, 239]   \n",
       "1                          [209, 272, 350]   \n",
       "2                     [272, 560, 301, 435]   \n",
       "3                           [38, 258, 410]   \n",
       "4                          [560, 141, 532]   \n",
       "\n",
       "                                       OnehotEncoded  \n",
       "0  [0.0, 0.0, 0.0, 0.0, 0.0, 0.0, 0.0, 0.0, 0.0, ...  \n",
       "1  [0.0, 0.0, 0.0, 0.0, 0.0, 0.0, 0.0, 0.0, 0.0, ...  \n",
       "2  [0.0, 0.0, 0.0, 0.0, 0.0, 0.0, 0.0, 0.0, 0.0, ...  \n",
       "3  [0.0, 0.0, 0.0, 0.0, 0.0, 0.0, 0.0, 0.0, 0.0, ...  \n",
       "4  [0.0, 0.0, 0.0, 0.0, 0.0, 0.0, 0.0, 0.0, 0.0, ...  "
      ]
     },
     "execution_count": 184,
     "metadata": {},
     "output_type": "execute_result"
    }
   ],
   "source": [
    "finaldf.head()"
   ]
  },
  {
   "cell_type": "markdown",
   "metadata": {},
   "source": [
    "## Clustering model kmeans to transform this datset into categorical and use the labels as different classes.. here choosen it as 25 "
   ]
  },
  {
   "cell_type": "code",
   "execution_count": 261,
   "metadata": {},
   "outputs": [
    {
     "name": "stdout",
     "output_type": "stream",
     "text": [
      "66301\n",
      "66301\n"
     ]
    }
   ],
   "source": [
    "import matplotlib.pyplot as plt\n",
    "from sklearn.datasets import make_blobs\n",
    "from sklearn.cluster import KMeans\n",
    "from sklearn.metrics import silhouette_score\n",
    "from sklearn.preprocessing import StandardScaler\n",
    "\n",
    "print(len(final))\n",
    "OnehotEncoded=[]\n",
    "for i in final:\n",
    "    OnehotEncoded.append(i[-1])\n",
    "print(len(OnehotEncoded))    \n",
    "\n",
    "kmeans = KMeans(n_clusters=25,max_iter=100,random_state=27)\n",
    "kmeans.fit(OnehotEncoded)\n",
    "labels=kmeans.labels_"
   ]
  },
  {
   "cell_type": "markdown",
   "metadata": {},
   "source": [
    "# Final categorical data ready for classification"
   ]
  },
  {
   "cell_type": "code",
   "execution_count": 263,
   "metadata": {},
   "outputs": [
    {
     "data": {
      "text/html": [
       "<div>\n",
       "<style scoped>\n",
       "    .dataframe tbody tr th:only-of-type {\n",
       "        vertical-align: middle;\n",
       "    }\n",
       "\n",
       "    .dataframe tbody tr th {\n",
       "        vertical-align: top;\n",
       "    }\n",
       "\n",
       "    .dataframe thead th {\n",
       "        text-align: right;\n",
       "    }\n",
       "</style>\n",
       "<table border=\"1\" class=\"dataframe\">\n",
       "  <thead>\n",
       "    <tr style=\"text-align: right;\">\n",
       "      <th></th>\n",
       "      <th>Bid</th>\n",
       "      <th>Name</th>\n",
       "      <th>Category</th>\n",
       "      <th>IntegerValue</th>\n",
       "      <th>OnehotEncoded</th>\n",
       "      <th>Labels</th>\n",
       "    </tr>\n",
       "  </thead>\n",
       "  <tbody>\n",
       "    <tr>\n",
       "      <th>0</th>\n",
       "      <td>pQeaRpvuhoEqudo3uymHIQ</td>\n",
       "      <td>The Empanadas House</td>\n",
       "      <td>[ethnic food, food truck, specialty food, impo...</td>\n",
       "      <td>[246, 278, 612, 352, 30, 272, 560, 239]</td>\n",
       "      <td>[0.0, 0.0, 0.0, 0.0, 0.0, 0.0, 0.0, 0.0, 0.0, ...</td>\n",
       "      <td>13</td>\n",
       "    </tr>\n",
       "    <tr>\n",
       "      <th>1</th>\n",
       "      <td>M_guz7Dj7hX0evS672wIwA</td>\n",
       "      <td>Chocolate Shoppe Ice Cream</td>\n",
       "      <td>[dessert, food, ice cream &amp; frozen yogurt]</td>\n",
       "      <td>[209, 272, 350]</td>\n",
       "      <td>[0.0, 0.0, 0.0, 0.0, 0.0, 0.0, 0.0, 0.0, 0.0, ...</td>\n",
       "      <td>3</td>\n",
       "    </tr>\n",
       "    <tr>\n",
       "      <th>2</th>\n",
       "      <td>CsLQLiRoafpJPJSkNX2h5Q</td>\n",
       "      <td>Middle East Deli</td>\n",
       "      <td>[food, restaur, groceri, middle eastern]</td>\n",
       "      <td>[272, 560, 301, 435]</td>\n",
       "      <td>[0.0, 0.0, 0.0, 0.0, 0.0, 0.0, 0.0, 0.0, 0.0, ...</td>\n",
       "      <td>13</td>\n",
       "    </tr>\n",
       "    <tr>\n",
       "      <th>3</th>\n",
       "      <td>x3Po6tJGb729u_HJPY6UCA</td>\n",
       "      <td>Glendale Glitters</td>\n",
       "      <td>[arts &amp; entertain, festiv, local flavor]</td>\n",
       "      <td>[38, 258, 410]</td>\n",
       "      <td>[0.0, 0.0, 0.0, 0.0, 0.0, 0.0, 0.0, 0.0, 0.0, ...</td>\n",
       "      <td>2</td>\n",
       "    </tr>\n",
       "    <tr>\n",
       "      <th>4</th>\n",
       "      <td>eBEfgOPG7pvFhb2wcG9I7w</td>\n",
       "      <td>Philthy Phillys</td>\n",
       "      <td>[restaur, cheesesteak, poutineri]</td>\n",
       "      <td>[560, 141, 532]</td>\n",
       "      <td>[0.0, 0.0, 0.0, 0.0, 0.0, 0.0, 0.0, 0.0, 0.0, ...</td>\n",
       "      <td>2</td>\n",
       "    </tr>\n",
       "  </tbody>\n",
       "</table>\n",
       "</div>"
      ],
      "text/plain": [
       "                      Bid                        Name  \\\n",
       "0  pQeaRpvuhoEqudo3uymHIQ         The Empanadas House   \n",
       "1  M_guz7Dj7hX0evS672wIwA  Chocolate Shoppe Ice Cream   \n",
       "2  CsLQLiRoafpJPJSkNX2h5Q            Middle East Deli   \n",
       "3  x3Po6tJGb729u_HJPY6UCA           Glendale Glitters   \n",
       "4  eBEfgOPG7pvFhb2wcG9I7w             Philthy Phillys   \n",
       "\n",
       "                                            Category  \\\n",
       "0  [ethnic food, food truck, specialty food, impo...   \n",
       "1         [dessert, food, ice cream & frozen yogurt]   \n",
       "2           [food, restaur, groceri, middle eastern]   \n",
       "3           [arts & entertain, festiv, local flavor]   \n",
       "4                  [restaur, cheesesteak, poutineri]   \n",
       "\n",
       "                              IntegerValue  \\\n",
       "0  [246, 278, 612, 352, 30, 272, 560, 239]   \n",
       "1                          [209, 272, 350]   \n",
       "2                     [272, 560, 301, 435]   \n",
       "3                           [38, 258, 410]   \n",
       "4                          [560, 141, 532]   \n",
       "\n",
       "                                       OnehotEncoded  Labels  \n",
       "0  [0.0, 0.0, 0.0, 0.0, 0.0, 0.0, 0.0, 0.0, 0.0, ...      13  \n",
       "1  [0.0, 0.0, 0.0, 0.0, 0.0, 0.0, 0.0, 0.0, 0.0, ...       3  \n",
       "2  [0.0, 0.0, 0.0, 0.0, 0.0, 0.0, 0.0, 0.0, 0.0, ...      13  \n",
       "3  [0.0, 0.0, 0.0, 0.0, 0.0, 0.0, 0.0, 0.0, 0.0, ...       2  \n",
       "4  [0.0, 0.0, 0.0, 0.0, 0.0, 0.0, 0.0, 0.0, 0.0, ...       2  "
      ]
     },
     "execution_count": 263,
     "metadata": {},
     "output_type": "execute_result"
    }
   ],
   "source": [
    "finaldf[\"Labels\"]=labels\n",
    "finaldf.head()\n"
   ]
  },
  {
   "cell_type": "markdown",
   "metadata": {},
   "source": [
    "# Stochaistic descent Classification model to the restraunts and recommed respectively"
   ]
  },
  {
   "cell_type": "code",
   "execution_count": 269,
   "metadata": {},
   "outputs": [
    {
     "data": {
      "text/plain": [
       "((53040, 737), (13261, 737), (53040,), (13261,))"
      ]
     },
     "execution_count": 269,
     "metadata": {},
     "output_type": "execute_result"
    }
   ],
   "source": [
    "from sklearn.model_selection import train_test_split\n",
    "X = np.array(OnehotEncoded)\n",
    "Y = finaldf['Labels']\n",
    "\n",
    "X_train,X_test,y_train,y_test=train_test_split(X,Y,test_size = 0.2)\n",
    "\n",
    "X_train.shape , X_test.shape , y_train.shape , y_test.shape"
   ]
  },
  {
   "cell_type": "code",
   "execution_count": 271,
   "metadata": {},
   "outputs": [
    {
     "data": {
      "text/plain": [
       "SGDClassifier(alpha=0.0001, average=False, class_weight=None,\n",
       "       early_stopping=False, epsilon=0.1, eta0=0.0, fit_intercept=True,\n",
       "       l1_ratio=0.15, learning_rate='optimal', loss='hinge', max_iter=100,\n",
       "       n_iter=None, n_iter_no_change=5, n_jobs=None, penalty='elasticnet',\n",
       "       power_t=0.5, random_state=None, shuffle=True, tol=0.001,\n",
       "       validation_fraction=0.1, verbose=0, warm_start=False)"
      ]
     },
     "execution_count": 271,
     "metadata": {},
     "output_type": "execute_result"
    }
   ],
   "source": [
    "from sklearn.linear_model import SGDClassifier\n",
    "from sklearn import linear_model\n",
    "SGDClf = linear_model.SGDClassifier(max_iter = 100, tol=1e-3,penalty = \"elasticnet\")\n",
    "SGDClf.fit(X, Y)"
   ]
  },
  {
   "cell_type": "code",
   "execution_count": 273,
   "metadata": {},
   "outputs": [
    {
     "name": "stdout",
     "output_type": "stream",
     "text": [
      "[19  7  8 ... 16  8  9]\n"
     ]
    }
   ],
   "source": [
    "Prediction=SGDClf.predict( X_test)\n",
    "print(Prediction)\n",
    "#To which ever class the user input data is predicted restraunts in that class will be recommended"
   ]
  },
  {
   "cell_type": "code",
   "execution_count": 274,
   "metadata": {},
   "outputs": [
    {
     "data": {
      "text/plain": [
       "array([[ 0.       ,  0.       ,  0.       , ...,  0.       ,  0.       ,\n",
       "         0.       ],\n",
       "       [ 0.       ,  0.       ,  0.       , ...,  0.       ,  0.       ,\n",
       "         0.       ],\n",
       "       [ 0.       ,  0.       ,  0.       , ...,  0.       ,  0.       ,\n",
       "         0.       ],\n",
       "       ...,\n",
       "       [ 0.       ,  0.       , -0.0599733, ...,  0.       ,  0.       ,\n",
       "         0.       ],\n",
       "       [ 0.       ,  0.       ,  0.       , ...,  0.       ,  0.       ,\n",
       "         0.       ],\n",
       "       [ 0.       ,  0.       ,  0.       , ...,  0.       ,  0.       ,\n",
       "         0.       ]])"
      ]
     },
     "execution_count": 274,
     "metadata": {},
     "output_type": "execute_result"
    }
   ],
   "source": [
    "SGDClf.coef_"
   ]
  },
  {
   "cell_type": "code",
   "execution_count": null,
   "metadata": {},
   "outputs": [],
   "source": []
  },
  {
   "cell_type": "code",
   "execution_count": null,
   "metadata": {},
   "outputs": [],
   "source": []
  },
  {
   "cell_type": "code",
   "execution_count": null,
   "metadata": {},
   "outputs": [],
   "source": []
  },
  {
   "cell_type": "code",
   "execution_count": 275,
   "metadata": {},
   "outputs": [
    {
     "data": {
      "image/png": "[encoded data removed]",
      "text/plain": [
       "<Figure size 432x288 with 1 Axes>"
      ]
     },
     "metadata": {
      "needs_background": "light"
     },
     "output_type": "display_data"
    }
   ],
   "source": []
  },
  {
   "cell_type": "code",
   "execution_count": 276,
   "metadata": {},
   "outputs": [
    {
     "data": {
      "text/plain": [
       "(8.912509381337454, 112.2018454301963, 8.912509381337454, 112.2018454301963)"
      ]
     },
     "execution_count": 276,
     "metadata": {},
     "output_type": "execute_result"
    },
    {
     "data": {
      "image/png": "[encoded data removed]",
      "text/plain": [
       "<Figure size 432x288 with 1 Axes>"
      ]
     },
     "metadata": {
      "needs_background": "light"
     },
     "output_type": "display_data"
    }
   ],
   "source": [
    "g=plt.scatter(y_test, Prediction)\n",
    "g.axes.set_yscale('log')\n",
    "g.axes.set_xscale('log')\n",
    "g.axes.set_xlabel('True Values ')\n",
    "g.axes.set_ylabel('Predictions ')\n",
    "g.axes.axis('equal')\n",
    "g.axes.axis('square')"
   ]
  },
  {
   "cell_type": "code",
   "execution_count": 229,
   "metadata": {},
   "outputs": [
    {
     "name": "stdout",
     "output_type": "stream",
     "text": [
      "My version: 0.6708203932499369\n",
      "Scikit-Learn: [[0.67082039]]\n"
     ]
    }
   ],
   "source": [
    "from sklearn.metrics.pairwise import cosine_similarity\n",
    "\n",
    "\n",
    "# Vectors\n",
    "vec_a = final[2][-1]\n",
    "vec_b = final[20][-1]\n",
    "\n",
    "# Dot and norm\n",
    "#dot = sum(a*b for a, b in zip(vec_a, vec_b))\n",
    "norm_a = sum(a*a for a in vec_a) ** 0.5\n",
    "norm_b = sum(b*b for b in vec_b) ** 0.5\n",
    "\n",
    "# Cosine similarity\n",
    "cos_sim = dot / (norm_a*norm_b)\n",
    "\n",
    "# Results\n",
    "print('My version:', cos_sim)\n",
    "print('Scikit-Learn:', cosine_similarity([vec_a], [vec_b]))"
   ]
  },
  {
   "cell_type": "code",
   "execution_count": 259,
   "metadata": {},
   "outputs": [],
   "source": [
    "finaltest=final[0:20]\n",
    "result=[]"
   ]
  },
  {
   "cell_type": "code",
   "execution_count": 260,
   "metadata": {},
   "outputs": [
    {
     "ename": "KeyboardInterrupt",
     "evalue": "",
     "output_type": "error",
     "traceback": [
      "\u001b[1;31m---------------------------------------------------------------------------\u001b[0m",
      "\u001b[1;31mKeyboardInterrupt\u001b[0m                         Traceback (most recent call last)",
      "\u001b[1;32m<ipython-input-260-8353e19dd1f8>\u001b[0m in \u001b[0;36m<module>\u001b[1;34m\u001b[0m\n\u001b[0;32m      5\u001b[0m         \u001b[0mvec_b\u001b[0m \u001b[1;33m=\u001b[0m \u001b[0mfinal\u001b[0m\u001b[1;33m[\u001b[0m\u001b[0mj\u001b[0m\u001b[1;33m]\u001b[0m\u001b[1;33m[\u001b[0m\u001b[1;33m-\u001b[0m\u001b[1;36m1\u001b[0m\u001b[1;33m]\u001b[0m\u001b[1;33m\u001b[0m\u001b[1;33m\u001b[0m\u001b[0m\n\u001b[0;32m      6\u001b[0m         \u001b[1;32mif\u001b[0m \u001b[1;33m(\u001b[0m\u001b[0mi\u001b[0m \u001b[1;32mis\u001b[0m \u001b[1;32mnot\u001b[0m \u001b[0mj\u001b[0m\u001b[1;33m)\u001b[0m\u001b[1;33m:\u001b[0m\u001b[1;33m\u001b[0m\u001b[1;33m\u001b[0m\u001b[0m\n\u001b[1;32m----> 7\u001b[1;33m             \u001b[0mcos\u001b[0m\u001b[1;33m=\u001b[0m\u001b[0mcosine_similarity\u001b[0m\u001b[1;33m(\u001b[0m\u001b[1;33m[\u001b[0m\u001b[0mvec_a\u001b[0m\u001b[1;33m]\u001b[0m\u001b[1;33m,\u001b[0m \u001b[1;33m[\u001b[0m\u001b[0mvec_b\u001b[0m\u001b[1;33m]\u001b[0m\u001b[1;33m)\u001b[0m\u001b[1;33m\u001b[0m\u001b[1;33m\u001b[0m\u001b[0m\n\u001b[0m\u001b[0;32m      8\u001b[0m             \u001b[0msimilarity\u001b[0m\u001b[1;33m=\u001b[0m\u001b[0mcos\u001b[0m\u001b[1;33m[\u001b[0m\u001b[1;36m0\u001b[0m\u001b[1;33m]\u001b[0m\u001b[1;33m[\u001b[0m\u001b[1;36m0\u001b[0m\u001b[1;33m]\u001b[0m\u001b[1;33m*\u001b[0m\u001b[1;36m100\u001b[0m\u001b[1;33m\u001b[0m\u001b[1;33m\u001b[0m\u001b[0m\n\u001b[0;32m      9\u001b[0m             \u001b[0msimilarity\u001b[0m\u001b[1;33m=\u001b[0m\u001b[0mfloat\u001b[0m\u001b[1;33m(\u001b[0m\u001b[0msimilarity\u001b[0m\u001b[1;33m)\u001b[0m\u001b[1;33m\u001b[0m\u001b[1;33m\u001b[0m\u001b[0m\n",
      "\u001b[1;32mc:\\users\\168907\\appdata\\local\\programs\\python\\python36\\lib\\site-packages\\sklearn\\metrics\\pairwise.py\u001b[0m in \u001b[0;36mcosine_similarity\u001b[1;34m(X, Y, dense_output)\u001b[0m\n\u001b[0;32m    896\u001b[0m     \u001b[0mX\u001b[0m\u001b[1;33m,\u001b[0m \u001b[0mY\u001b[0m \u001b[1;33m=\u001b[0m \u001b[0mcheck_pairwise_arrays\u001b[0m\u001b[1;33m(\u001b[0m\u001b[0mX\u001b[0m\u001b[1;33m,\u001b[0m \u001b[0mY\u001b[0m\u001b[1;33m)\u001b[0m\u001b[1;33m\u001b[0m\u001b[1;33m\u001b[0m\u001b[0m\n\u001b[0;32m    897\u001b[0m \u001b[1;33m\u001b[0m\u001b[0m\n\u001b[1;32m--> 898\u001b[1;33m     \u001b[0mX_normalized\u001b[0m \u001b[1;33m=\u001b[0m \u001b[0mnormalize\u001b[0m\u001b[1;33m(\u001b[0m\u001b[0mX\u001b[0m\u001b[1;33m,\u001b[0m \u001b[0mcopy\u001b[0m\u001b[1;33m=\u001b[0m\u001b[1;32mTrue\u001b[0m\u001b[1;33m)\u001b[0m\u001b[1;33m\u001b[0m\u001b[1;33m\u001b[0m\u001b[0m\n\u001b[0m\u001b[0;32m    899\u001b[0m     \u001b[1;32mif\u001b[0m \u001b[0mX\u001b[0m \u001b[1;32mis\u001b[0m \u001b[0mY\u001b[0m\u001b[1;33m:\u001b[0m\u001b[1;33m\u001b[0m\u001b[1;33m\u001b[0m\u001b[0m\n\u001b[0;32m    900\u001b[0m         \u001b[0mY_normalized\u001b[0m \u001b[1;33m=\u001b[0m \u001b[0mX_normalized\u001b[0m\u001b[1;33m\u001b[0m\u001b[1;33m\u001b[0m\u001b[0m\n",
      "\u001b[1;32mc:\\users\\168907\\appdata\\local\\programs\\python\\python36\\lib\\site-packages\\sklearn\\preprocessing\\data.py\u001b[0m in \u001b[0;36mnormalize\u001b[1;34m(X, norm, axis, copy, return_norm)\u001b[0m\n\u001b[0;32m   1552\u001b[0m \u001b[1;33m\u001b[0m\u001b[0m\n\u001b[0;32m   1553\u001b[0m     X = check_array(X, sparse_format, copy=copy,\n\u001b[1;32m-> 1554\u001b[1;33m                     estimator='the normalize function', dtype=FLOAT_DTYPES)\n\u001b[0m\u001b[0;32m   1555\u001b[0m     \u001b[1;32mif\u001b[0m \u001b[0maxis\u001b[0m \u001b[1;33m==\u001b[0m \u001b[1;36m0\u001b[0m\u001b[1;33m:\u001b[0m\u001b[1;33m\u001b[0m\u001b[1;33m\u001b[0m\u001b[0m\n\u001b[0;32m   1556\u001b[0m         \u001b[0mX\u001b[0m \u001b[1;33m=\u001b[0m \u001b[0mX\u001b[0m\u001b[1;33m.\u001b[0m\u001b[0mT\u001b[0m\u001b[1;33m\u001b[0m\u001b[1;33m\u001b[0m\u001b[0m\n",
      "\u001b[1;32mc:\\users\\168907\\appdata\\local\\programs\\python\\python36\\lib\\site-packages\\sklearn\\utils\\validation.py\u001b[0m in \u001b[0;36mcheck_array\u001b[1;34m(array, accept_sparse, accept_large_sparse, dtype, order, copy, force_all_finite, ensure_2d, allow_nd, ensure_min_samples, ensure_min_features, warn_on_dtype, estimator)\u001b[0m\n\u001b[0;32m    596\u001b[0m \u001b[1;33m\u001b[0m\u001b[0m\n\u001b[0;32m    597\u001b[0m     \u001b[1;32mif\u001b[0m \u001b[0mcopy\u001b[0m \u001b[1;32mand\u001b[0m \u001b[0mnp\u001b[0m\u001b[1;33m.\u001b[0m\u001b[0mmay_share_memory\u001b[0m\u001b[1;33m(\u001b[0m\u001b[0marray\u001b[0m\u001b[1;33m,\u001b[0m \u001b[0marray_orig\u001b[0m\u001b[1;33m)\u001b[0m\u001b[1;33m:\u001b[0m\u001b[1;33m\u001b[0m\u001b[1;33m\u001b[0m\u001b[0m\n\u001b[1;32m--> 598\u001b[1;33m         \u001b[0marray\u001b[0m \u001b[1;33m=\u001b[0m \u001b[0mnp\u001b[0m\u001b[1;33m.\u001b[0m\u001b[0marray\u001b[0m\u001b[1;33m(\u001b[0m\u001b[0marray\u001b[0m\u001b[1;33m,\u001b[0m \u001b[0mdtype\u001b[0m\u001b[1;33m=\u001b[0m\u001b[0mdtype\u001b[0m\u001b[1;33m,\u001b[0m \u001b[0morder\u001b[0m\u001b[1;33m=\u001b[0m\u001b[0morder\u001b[0m\u001b[1;33m)\u001b[0m\u001b[1;33m\u001b[0m\u001b[1;33m\u001b[0m\u001b[0m\n\u001b[0m\u001b[0;32m    599\u001b[0m \u001b[1;33m\u001b[0m\u001b[0m\n\u001b[0;32m    600\u001b[0m     if (warn_on_dtype and dtypes_orig is not None and\n",
      "\u001b[1;31mKeyboardInterrupt\u001b[0m: "
     ]
    }
   ],
   "source": [
    "for i in range(len(final)):\n",
    "    res=[]\n",
    "    for j in range(len(final)):\n",
    "        vec_a = final[i][-1]\n",
    "        vec_b = final[j][-1]\n",
    "        if (i is not j):\n",
    "            cos=cosine_similarity([vec_a], [vec_b])\n",
    "            similarity=cos[0][0]*100\n",
    "            similarity=float(similarity)\n",
    "            similarity=round(similarity, 2)\n",
    "            #print(similarity)\n",
    "            #print(type(similarity))\n",
    "        else:\n",
    "            similarity=1\n",
    "            similarity=1*100\n",
    "        res.append(similarity) \n",
    "    result.append(res)\n",
    "    "
   ]
  },
  {
   "cell_type": "code",
   "execution_count": 258,
   "metadata": {},
   "outputs": [
    {
     "name": "stdout",
     "output_type": "stream",
     "text": [
      "[[100, 20.41, 35.36, 0.0, 20.41, 17.68, 15.81, 25.0, 31.62, 20.41, 40.82, 20.41, 17.68, 20.41, 25.0, 25.0, 15.81, 20.41, 25.0, 20.41], [20.41, 100, 28.87, 0.0, 0.0, 0.0, 0.0, 40.82, 25.82, 0.0, 33.33, 0.0, 0.0, 0.0, 0.0, 40.82, 0.0, 0.0, 0.0, 16.67], [35.36, 28.87, 100, 0.0, 28.87, 25.0, 44.72, 70.71, 44.72, 28.87, 57.74, 28.87, 25.0, 57.74, 35.36, 35.36, 22.36, 28.87, 35.36, 28.87], [0.0, 0.0, 0.0, 100, 0.0, 0.0, 0.0, 0.0, 0.0, 0.0, 0.0, 0.0, 0.0, 0.0, 0.0, 0.0, 0.0, 0.0, 0.0, 33.33], [20.41, 0.0, 28.87, 0.0, 100, 28.87, 25.82, 0.0, 25.82, 33.33, 33.33, 33.33, 28.87, 33.33, 40.82, 0.0, 25.82, 33.33, 40.82, 16.67], [17.68, 0.0, 25.0, 0.0, 28.87, 100, 22.36, 0.0, 44.72, 57.74, 28.87, 28.87, 25.0, 28.87, 35.36, 0.0, 44.72, 57.74, 35.36, 14.43], [15.81, 0.0, 44.72, 0.0, 25.82, 22.36, 100, 0.0, 20.0, 25.82, 25.82, 25.82, 22.36, 51.64, 31.62, 0.0, 20.0, 25.82, 31.62, 12.91], [25.0, 40.82, 70.71, 0.0, 0.0, 0.0, 0.0, 100, 31.62, 0.0, 40.82, 0.0, 0.0, 0.0, 0.0, 50.0, 0.0, 0.0, 0.0, 20.41], [31.62, 25.82, 44.72, 0.0, 25.82, 44.72, 20.0, 31.62, 100, 51.64, 51.64, 25.82, 22.36, 25.82, 31.62, 31.62, 40.0, 51.64, 31.62, 25.82], [20.41, 0.0, 28.87, 0.0, 33.33, 57.74, 25.82, 0.0, 51.64, 100, 33.33, 33.33, 28.87, 33.33, 81.65, 0.0, 51.64, 66.67, 40.82, 16.67], [40.82, 33.33, 57.74, 0.0, 33.33, 28.87, 25.82, 40.82, 51.64, 33.33, 100, 33.33, 57.74, 33.33, 40.82, 40.82, 51.64, 66.67, 40.82, 33.33], [20.41, 0.0, 28.87, 0.0, 33.33, 28.87, 25.82, 0.0, 25.82, 33.33, 33.33, 100, 28.87, 33.33, 40.82, 0.0, 25.82, 33.33, 40.82, 16.67], [17.68, 0.0, 25.0, 0.0, 28.87, 25.0, 22.36, 0.0, 22.36, 28.87, 57.74, 28.87, 100, 28.87, 35.36, 0.0, 44.72, 57.74, 35.36, 14.43], [20.41, 0.0, 57.74, 0.0, 33.33, 28.87, 51.64, 0.0, 25.82, 33.33, 33.33, 33.33, 28.87, 100, 40.82, 0.0, 25.82, 33.33, 40.82, 16.67], [25.0, 0.0, 35.36, 0.0, 40.82, 35.36, 31.62, 0.0, 31.62, 81.65, 40.82, 40.82, 35.36, 40.82, 100, 0.0, 31.62, 40.82, 50.0, 20.41], [25.0, 40.82, 35.36, 0.0, 0.0, 0.0, 0.0, 50.0, 31.62, 0.0, 40.82, 0.0, 0.0, 0.0, 0.0, 100, 0.0, 0.0, 0.0, 40.82], [15.81, 0.0, 22.36, 0.0, 25.82, 44.72, 20.0, 0.0, 40.0, 51.64, 51.64, 25.82, 44.72, 25.82, 31.62, 0.0, 100, 77.46, 31.62, 12.91], [20.41, 0.0, 28.87, 0.0, 33.33, 57.74, 25.82, 0.0, 51.64, 66.67, 66.67, 33.33, 57.74, 33.33, 40.82, 0.0, 77.46, 100, 40.82, 16.67], [25.0, 0.0, 35.36, 0.0, 40.82, 35.36, 31.62, 0.0, 31.62, 40.82, 40.82, 40.82, 35.36, 40.82, 50.0, 0.0, 31.62, 40.82, 100, 20.41], [20.41, 16.67, 28.87, 33.33, 16.67, 14.43, 12.91, 20.41, 25.82, 16.67, 33.33, 16.67, 14.43, 16.67, 20.41, 40.82, 12.91, 16.67, 20.41, 100]]\n"
     ]
    }
   ],
   "source": [
    "print(len(result))"
   ]
  },
  {
   "cell_type": "code",
   "execution_count": null,
   "metadata": {},
   "outputs": [],
   "source": []
  }
 ],
 "metadata": {
  "kernelspec": {
   "display_name": "Python 3",
   "language": "python",
   "name": "python3"
  },
  "language_info": {
   "codemirror_mode": {
    "name": "ipython",
    "version": 3
   },
   "file_extension": ".py",
   "mimetype": "text/x-python",
   "name": "python",
   "nbconvert_exporter": "python",
   "pygments_lexer": "ipython3",
   "version": "3.6.8"
  }
 },
 "nbformat": 4,
 "nbformat_minor": 4
}
